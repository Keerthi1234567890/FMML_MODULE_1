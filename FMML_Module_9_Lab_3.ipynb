{
  "nbformat": 4,
  "nbformat_minor": 0,
  "metadata": {
    "colab": {
      "provenance": []
    },
    "kernelspec": {
      "name": "python3",
      "display_name": "Python 3"
    },
    "language_info": {
      "name": "python"
    }
  },
  "cells": [
    {
      "cell_type": "markdown",
      "source": [
        "# Module 9: Convolutional Neural Networks\n",
        "## **Lab 3**\n",
        "### Module coordinator: Kushagra Agarwal"
      ],
      "metadata": {
        "id": "kCpbL40ggQf1"
      }
    },
    {
      "cell_type": "markdown",
      "source": [
        "## 1. Understanding Convolutions"
      ],
      "metadata": {
        "id": "0hAW8ptqVeyP"
      }
    },
    {
      "cell_type": "markdown",
      "source": [
        "<img src=\"https://miro.medium.com/max/464/0*e-SMFTzO8r7skkpc\" width=650px/>"
      ],
      "metadata": {
        "id": "q6wfvhccKxWx"
      }
    },
    {
      "cell_type": "code",
      "execution_count": 10,
      "metadata": {
        "id": "yZD5S7IQgHbU"
      },
      "outputs": [],
      "source": [
        "import cv2\n",
        "import numpy as np\n",
        "import matplotlib.pyplot as plt"
      ]
    },
    {
      "cell_type": "code",
      "source": [
        "# Importing some pytorch packages\n",
        "import torch\n",
        "from torch.nn import Conv2d"
      ],
      "metadata": {
        "id": "BDE4WBHalreb"
      },
      "execution_count": 11,
      "outputs": []
    },
    {
      "cell_type": "markdown",
      "source": [
        "Central to CNNs, a convolution operation is a linear element-wise multiplication operation between a small filter/kernel and same-sized patch from the image. We move this filter over the image like a sliding window from top left to bottom right. For each point on the image, a value is calculated based on the filter using a convolution operation. These filters can do simplest task like checking if there is a vertical line in the image or complicated task like detecting a human eye in the image.\n",
        "\n",
        "Let's look at the convolution formula:\n",
        "\n",
        "Convolution between image\n",
        "$f(x, y)$ and kernel $k(x, y)$ is\n",
        "$$f(x,y) * k(x,y) = \\sum \\limits _{i=0} ^{W-1} \\sum \\limits _{j=0} ^{H-1} f(i, j) k(x − i, y − j)$$\n",
        "\n",
        "where $W$ and $H$ are the the width and height of the image.\n",
        "\n",
        "The code demonstrates the convolution operation of a 2D matrix (image) with various filters"
      ],
      "metadata": {
        "id": "hbpRXyTpVv7u"
      }
    },
    {
      "cell_type": "markdown",
      "source": [
        "<img src=\"https://www.researchgate.net/profile/Chaim-Baskin/publication/318849314/figure/fig1/AS:614287726870532@1523469015098/Image-convolution-with-an-input-image-of-size-7-7-and-a-filter-kernel-of-size-3-3.png\" alt=\"Convolution\" width=650px height=280px/>"
      ],
      "metadata": {
        "id": "amI6DTS0Ksvo"
      }
    },
    {
      "cell_type": "code",
      "source": [
        "# 2D 3x3 binary image with vertical edge\n",
        "image1 = np.array([[1,1,0], [1,1,0], [1,1,0]])\n",
        "\n",
        "# 2D 3x3 binary image with horizontal edge\n",
        "image2 = np.array([[0,0,0], [0,0,0], [1,1,1]])\n",
        "\n",
        "# On plotting the images\n",
        "plt.imshow(image1, cmap='gray', extent=[0, 3, 3, 0])\n",
        "plt.show()\n",
        "plt.imshow(image2, cmap='gray', extent=[0, 3, 3, 0])\n",
        "plt.show()"
      ],
      "metadata": {
        "colab": {
          "base_uri": "https://localhost:8080/",
          "height": 853
        },
        "id": "IalqupPPkDil",
        "outputId": "63df0467-9553-4ab3-94c9-b610e4037e5d"
      },
      "execution_count": 12,
      "outputs": [
        {
          "output_type": "display_data",
          "data": {
            "text/plain": [
              "<Figure size 640x480 with 1 Axes>"
            ],
            "image/png": "[encoded data removed]"
          },
          "metadata": {}
        },
        {
          "output_type": "display_data",
          "data": {
            "text/plain": [
              "<Figure size 640x480 with 1 Axes>"
            ],
            "image/png": "[encoded data removed]"
          },
          "metadata": {}
        }
      ]
    },
    {
      "cell_type": "code",
      "source": [
        "# Vertical Line filter\n",
        "filter = np.array([[1,0,-1],\n",
        "                   [1,0,-1],\n",
        "                   [1,0,-1]])\n",
        "\n",
        "# Applying filter to first image\n",
        "output = np.sum(np.multiply(image1, filter))\n",
        "print('Output from first image: ', output)\n",
        "\n",
        "# Applying filter to second image\n",
        "output = np.sum(np.multiply(image2, filter))\n",
        "print('Output from second image: ', output)"
      ],
      "metadata": {
        "colab": {
          "base_uri": "https://localhost:8080/"
        },
        "id": "g42INjCaketK",
        "outputId": "e3ca1863-8356-4961-98db-57fdaae1548d"
      },
      "execution_count": 13,
      "outputs": [
        {
          "output_type": "stream",
          "name": "stdout",
          "text": [
            "Output from first image:  3\n",
            "Output from second image:  0\n"
          ]
        }
      ]
    },
    {
      "cell_type": "code",
      "source": [
        "# Horizontal edge filter\n",
        "filter = np.array([[-1,-1,-1],\n",
        "                   [ 0, 0, 0],\n",
        "                   [ 1, 1, 1]])\n",
        "\n",
        "output = np.sum(np.multiply(image1, filter))\n",
        "print('Output from first image: ', output)\n",
        "\n",
        "output = np.sum(np.multiply(image2, filter))\n",
        "print('Output from second image: ', output)"
      ],
      "metadata": {
        "colab": {
          "base_uri": "https://localhost:8080/"
        },
        "id": "Tba3ySYUk2df",
        "outputId": "bcbcd628-d3dc-407e-d496-065fbbd18036"
      },
      "execution_count": 14,
      "outputs": [
        {
          "output_type": "stream",
          "name": "stdout",
          "text": [
            "Output from first image:  0\n",
            "Output from second image:  3\n"
          ]
        }
      ]
    },
    {
      "cell_type": "markdown",
      "source": [
        "Non-zero output suggests that there is a vertical edge present in the first image and not present in the second image. Similarly, horizontal edge is detected in second."
      ],
      "metadata": {
        "id": "BmYcPhDgk_in"
      }
    },
    {
      "cell_type": "markdown",
      "source": [
        "Let's define a function to use convolution layer from Pytorch and use our own kernel to detect edges in image"
      ],
      "metadata": {
        "id": "UNdrDtAKqyj2"
      }
    },
    {
      "cell_type": "code",
      "source": [
        "def apply_conv(image, kernel, padding=0, stride=1):\n",
        "\n",
        "  #--------IMAGE PREPROCESSING-------\n",
        "  image = torch.from_numpy(image)\n",
        "  # Pytorch requires input to convolution in (N,C,H,W), where N = batch size and C=#channels in input\n",
        "  input = image.view((1,1,image.shape[0], image.shape[1]))\n",
        "\n",
        "  # --------------KERNEL-------------\n",
        "  kernel = torch.from_numpy(kernel.astype(np.float32))\n",
        "\n",
        "  # Pytorch requires kernel of shape (N,C,H,W), where N = batch size and C=#channels in input\n",
        "  kernel = kernel.view((1,1,kernel.shape[0], kernel.shape[1]))\n",
        "\n",
        "  # ---------CONVOLUTION LAYER from Pytorch--------\n",
        "  conv = Conv2d(in_channels=1, out_channels=1, kernel_size=kernel.shape, padding=padding, stride=stride)\n",
        "\n",
        "  # Set the kernel weights in the convolution layer\n",
        "  conv.weight = torch.nn.Parameter(kernel)\n",
        "\n",
        "  # ---------APPLY CONVOLUTION--------\n",
        "  output = conv(input.float())\n",
        "  output_img = output.data.numpy()  # Tensor to back in numpy\n",
        "  output_img = output_img.reshape((-1, output_img.shape[-1])) # Reshape to 2D image\n",
        "\n",
        "  return output_img"
      ],
      "metadata": {
        "id": "G5fRJziBk3YB"
      },
      "execution_count": 15,
      "outputs": []
    },
    {
      "cell_type": "code",
      "source": [
        "import cv2\n",
        "import numpy as np\n",
        "\n",
        "# Read the image\n",
        "image = cv2.imread('/content/grid1 (1).jpg', 0)\n",
        "\n",
        "# Define the first filter (horizontal edge detector)\n",
        "filter1 = np.array([[-1, -1, -1],\n",
        "                    [ 0,  0,  0],\n",
        "                    [ 1,  1,  1]])\n",
        "\n",
        "# Define the second filter (vertical edge detector)\n",
        "filter2 = np.array([[ 1,  0, -1],\n",
        "                    [ 1,  0, -1],\n",
        "                    [ 1,  0, -1]])\n",
        "\n",
        "# Define a function to apply convolution\n",
        "def apply_conv(image, filter, padding=0, stride=1):\n",
        "    # Your implementation of convolution here\n",
        "    pass\n",
        "\n",
        "# Apply convolution with the first filter\n",
        "out1 = apply_conv(image, filter1, padding=0, stride=1)\n",
        "\n",
        "# Apply convolution with the second filter\n",
        "out2 = apply_conv(image, filter2, padding=0, stride=1)\n"
      ],
      "metadata": {
        "id": "pqWBOPpn3Q-3"
      },
      "execution_count": 17,
      "outputs": []
    },
    {
      "cell_type": "code",
      "source": [
        "import cv2\n",
        "import numpy as np\n",
        "\n",
        "# Read the image\n",
        "image = cv2.imread('/content/grid1 (1).jpg', 0)\n",
        "\n",
        "if image is None:\n",
        "    print(\"Error: Unable to read the image.\")\n",
        "else:\n",
        "    print(\"Image successfully loaded.\")\n",
        "\n",
        "# Define the first filter (horizontal edge detector)\n",
        "filter1 = np.array([[-1, -1, -1],\n",
        "                    [ 0,  0,  0],\n",
        "                    [ 1,  1,  1]])\n",
        "\n",
        "# Define the second filter (vertical edge detector)\n",
        "filter2 = np.array([[ 1,  0, -1],\n",
        "                    [ 1,  0, -1],\n",
        "                    [ 1,  0, -1]])\n",
        "\n",
        "# Define a function to apply convolution\n",
        "def apply_conv(image, filter, padding=0, stride=1):\n",
        "    # Get the dimensions of the image and the filter\n",
        "    img_height, img_width = image.shape\n",
        "    filter_height, filter_width = filter.shape\n",
        "\n",
        "    # Calculate the output dimensions\n",
        "    out_height = (img_height - filter_height + 2 * padding) // stride + 1\n",
        "    out_width = (img_width - filter_width + 2 * padding) // stride + 1\n",
        "\n",
        "    # Initialize the output matrix\n",
        "    output = np.zeros((out_height, out_width))\n",
        "\n",
        "    # Apply padding to the image\n",
        "    padded_image = np.pad(image, ((padding, padding), (padding, padding)), mode='constant')\n",
        "\n",
        "    # Perform convolution\n",
        "    for i in range(0, img_height - filter_height + 1, stride):\n",
        "        for j in range(0, img_width - filter_width + 1, stride):\n",
        "            # Extract the region of interest (ROI)\n",
        "            roi = padded_image[i:i+filter_height, j:j+filter_width]\n",
        "            # Convolve the ROI with the filter\n",
        "            output[i//stride, j//stride] = np.sum(roi * filter)\n",
        "\n",
        "    return output\n",
        "\n",
        "# Apply convolution with the first filter\n",
        "out1 = apply_conv(image, filter1, padding=0, stride=1)\n",
        "\n",
        "# Apply convolution with the second filter\n",
        "out2 = apply_conv(image, filter2, padding=0, stride=1)\n"
      ],
      "metadata": {
        "id": "vu-HJYV84mX2"
      },
      "execution_count": null,
      "outputs": []
    },
    {
      "cell_type": "markdown",
      "source": [
        "## Pooling Layers\n",
        "\n",
        "Pooling layers are used to reduce the dimensions of the feature maps. Thus, it reduces the number of parameters to learn and the amount of computation performed in the network. The pooling layer summarises the features present in a region of the feature map generated by a convolution layer.\n",
        "\n",
        "1) Max Pooling:\n",
        "\n",
        "<img src='https://media.geeksforgeeks.org/wp-content/uploads/20190721025744/Screenshot-2019-07-21-at-2.57.13-AM.png' height=150px/>\n",
        "\n",
        "2) Average Pooling:\n",
        "\n",
        "<img src='https://media.geeksforgeeks.org/wp-content/uploads/20190721030705/Screenshot-2019-07-21-at-3.05.56-AM.png' height=150px/>"
      ],
      "metadata": {
        "id": "FpA0yEk1BgRb"
      }
    },
    {
      "cell_type": "markdown",
      "source": [
        "## Softmax layer/activation\n",
        "Recall that logistic regression produces a decimal between 0 and 1.0. For example, a logistic regression output of 0.8 from an email classifier suggests an 80% chance of an email being spam and a 20% chance of it being not spam. Clearly, the sum of the probabilities of an email being either spam or not spam is 1.0.\n",
        "\n",
        "Softmax extends this idea into a multi-class world. That is, Softmax assigns decimal probabilities to each class in a multi-class problem. Those decimal probabilities must add up to 1.0. This additional constraint helps training converge more quickly than it otherwise would.\n",
        "Softmax is implemented through a neural network layer just before the output layer. The Softmax layer must have the same number of nodes as the output layer.\n",
        "\n",
        "<img src='https://miro.medium.com/max/1400/1*ReYpdIZ3ZSAPb2W8cJpkBg.jpeg' height=170px />"
      ],
      "metadata": {
        "id": "eu3QIU7AEO_x"
      }
    },
    {
      "cell_type": "markdown",
      "source": [
        "## Learning to train a CNN network"
      ],
      "metadata": {
        "id": "P6grxC0TKKSF"
      }
    },
    {
      "cell_type": "code",
      "source": [
        "# Import packages\n",
        "import torch\n",
        "import torchvision\n",
        "import torchvision.transforms as transforms\n",
        "import torch.nn as nn\n",
        "import torch.nn.functional as F\n",
        "import torch.optim as optim\n",
        "import matplotlib.pyplot as plt\n",
        "import numpy as np"
      ],
      "metadata": {
        "id": "qlO-uZUHnn_-"
      },
      "execution_count": 21,
      "outputs": []
    },
    {
      "cell_type": "code",
      "source": [
        "#  Images returned from torchvision dataset classes is in range [0,1]\n",
        "# We transform them to tensors and normalize them to range [-1,1] using 'Normalize' transform\n",
        "\n",
        "transform = transforms.Compose(\n",
        "    [transforms.ToTensor(),\n",
        "     transforms.Normalize((0.5, 0.5, 0.5), (0.5, 0.5, 0.5))])\n",
        "\n",
        "batch_size = 128\n",
        "\n",
        "trainset = torchvision.datasets.CIFAR10(root='./data', train=True,\n",
        "                                        download=True, transform=transform)\n",
        "trainloader = torch.utils.data.DataLoader(trainset, batch_size=batch_size,\n",
        "                                          shuffle=True, num_workers=2)\n",
        "\n",
        "testset = torchvision.datasets.CIFAR10(root='./data', train=False,\n",
        "                                       download=True, transform=transform)\n",
        "testloader = torch.utils.data.DataLoader(testset, batch_size=batch_size,\n",
        "                                         shuffle=False, num_workers=2)\n",
        "\n",
        "# Classes in CIFAR10\n",
        "classes = ('plane', 'car', 'bird', 'cat',\n",
        "           'deer', 'dog', 'frog', 'horse', 'ship', 'truck')"
      ],
      "metadata": {
        "id": "NnezCUbwGqzd",
        "colab": {
          "base_uri": "https://localhost:8080/"
        },
        "outputId": "86fd98db-46c9-4a42-e0f8-b20d5ac5c044"
      },
      "execution_count": 22,
      "outputs": [
        {
          "output_type": "stream",
          "name": "stdout",
          "text": [
            "Downloading https://www.cs.toronto.edu/~kriz/cifar-10-python.tar.gz to ./data/cifar-10-python.tar.gz\n"
          ]
        },
        {
          "output_type": "stream",
          "name": "stderr",
          "text": [
            "100%|██████████| 170498071/170498071 [00:03<00:00, 56705767.31it/s]\n"
          ]
        },
        {
          "output_type": "stream",
          "name": "stdout",
          "text": [
            "Extracting ./data/cifar-10-python.tar.gz to ./data\n",
            "Files already downloaded and verified\n"
          ]
        }
      ]
    },
    {
      "cell_type": "code",
      "source": [
        "print('Training data shape : ', trainset.data.shape, len(trainset.targets))\n",
        "print('Testing data shape : ', testset.data.shape, len(testset.targets))\n",
        "\n",
        "# Find the unique numbers from the train labels\n",
        "nClasses = len(classes)\n",
        "print('Total number of outputs : ', nClasses)\n",
        "print('Output classes : ', classes)"
      ],
      "metadata": {
        "id": "e2M57DhHGupn",
        "colab": {
          "base_uri": "https://localhost:8080/"
        },
        "outputId": "c9c9edd3-4a57-4f53-d3ab-50fc505dcd14"
      },
      "execution_count": 23,
      "outputs": [
        {
          "output_type": "stream",
          "name": "stdout",
          "text": [
            "Training data shape :  (50000, 32, 32, 3) 50000\n",
            "Testing data shape :  (10000, 32, 32, 3) 10000\n",
            "Total number of outputs :  10\n",
            "Output classes :  ('plane', 'car', 'bird', 'cat', 'deer', 'dog', 'frog', 'horse', 'ship', 'truck')\n"
          ]
        }
      ]
    },
    {
      "cell_type": "code",
      "source": [
        "def train(num_epochs, model, train_loader, loss_func, optimizer):\n",
        "\n",
        "  # Training mode\n",
        "  model.train()\n",
        "\n",
        "  train_losses = []\n",
        "  train_acc = []\n",
        "\n",
        "  # Train the model\n",
        "  for epoch in range(num_epochs):\n",
        "    running_loss = 0\n",
        "    running_acc = 0\n",
        "    for i, (images, labels) in enumerate(train_loader):\n",
        "\n",
        "      # clear gradients for this training step\n",
        "      optimizer.zero_grad()\n",
        "\n",
        "      # Forward pass\n",
        "      output = model(images)\n",
        "\n",
        "      # Calculate loss\n",
        "      loss = loss_func(output, labels)\n",
        "\n",
        "      # Backpropagation, compute gradients\n",
        "      loss.backward()\n",
        "\n",
        "      # Apply gradients\n",
        "      optimizer.step()\n",
        "\n",
        "      # Running loss\n",
        "      running_loss += loss.item()\n",
        "\n",
        "      # indices of max probabilities\n",
        "      _, preds = torch.max(output, dim=1)\n",
        "\n",
        "      # Calculate number of correct predictions\n",
        "      correct = (preds.float() == labels).sum()\n",
        "      running_acc += correct\n",
        "\n",
        "      # Average loss and acc values\n",
        "      epoch_loss = running_loss / len(train_loader.dataset)\n",
        "      epoch_acc = running_acc / len(train_loader.dataset)\n",
        "\n",
        "    train_losses.append(epoch_loss)\n",
        "    train_acc.append(epoch_acc)\n",
        "    print ('Epoch {}/{}, Loss: {:.4f}, Accuracy: {:.4f}'.format(epoch + 1, num_epochs, epoch_loss, epoch_acc*100))\n",
        "\n",
        "  return train_losses, train_acc"
      ],
      "metadata": {
        "id": "_haw697lHCZs"
      },
      "execution_count": 24,
      "outputs": []
    },
    {
      "cell_type": "code",
      "source": [
        "def test_model(model, testloader):\n",
        "  correct = 0\n",
        "  total = 0\n",
        "  # Deactivate autograd engine (don't compute grads since we're not training)\n",
        "  with torch.no_grad():\n",
        "    for data in testloader:\n",
        "        images, labels = data\n",
        "        # Calculate outputs by running images through the network\n",
        "        outputs = model(images)\n",
        "        # The class with the highest value is what we choose as prediction\n",
        "        _, predicted = torch.max(outputs.data, 1)\n",
        "        total += labels.size(0)\n",
        "        correct += (predicted == labels).sum().item()\n",
        "\n",
        "  print('Accuracy of the network: %d %%' % (\n",
        "      100 * correct / total))"
      ],
      "metadata": {
        "id": "x1Wi6vW7IHcR"
      },
      "execution_count": 25,
      "outputs": []
    },
    {
      "cell_type": "code",
      "source": [
        "# CNN with 2 CONV layers and 3 FC layers\n",
        "class Net(nn.Module):\n",
        "    def __init__(self):\n",
        "        super().__init__()\n",
        "        self.conv1 = nn.Conv2d(3, 16, 3)\n",
        "        self.pool = nn.MaxPool2d(2, 2)\n",
        "        self.conv2 = nn.Conv2d(16, 32, 5)\n",
        "        self.fc1 = nn.Linear(32 * 5 * 5, 512)\n",
        "        self.fc2 = nn.Linear(512, 128)\n",
        "        # output layer 10 classes\n",
        "        self.fc3 = nn.Linear(128, 10)\n",
        "\n",
        "    def forward(self, x):\n",
        "        x = self.pool(F.relu(self.conv1(x)))\n",
        "        x = self.pool(F.relu(self.conv2(x)))\n",
        "        # flatten all dimensions except batch\n",
        "        x = torch.flatten(x, 1)\n",
        "        x = F.relu(self.fc1(x))\n",
        "        x = F.relu(self.fc2(x))\n",
        "        x = self.fc3(x)\n",
        "        return x"
      ],
      "metadata": {
        "id": "RgxbRadcHIms"
      },
      "execution_count": 26,
      "outputs": []
    },
    {
      "cell_type": "code",
      "source": [
        "model = Net()\n",
        "print(model)"
      ],
      "metadata": {
        "id": "02meBxVOHLNL",
        "colab": {
          "base_uri": "https://localhost:8080/"
        },
        "outputId": "738ed000-9997-4b12-8f2f-40a0dc6e00f1"
      },
      "execution_count": 27,
      "outputs": [
        {
          "output_type": "stream",
          "name": "stdout",
          "text": [
            "Net(\n",
            "  (conv1): Conv2d(3, 16, kernel_size=(3, 3), stride=(1, 1))\n",
            "  (pool): MaxPool2d(kernel_size=2, stride=2, padding=0, dilation=1, ceil_mode=False)\n",
            "  (conv2): Conv2d(16, 32, kernel_size=(5, 5), stride=(1, 1))\n",
            "  (fc1): Linear(in_features=800, out_features=512, bias=True)\n",
            "  (fc2): Linear(in_features=512, out_features=128, bias=True)\n",
            "  (fc3): Linear(in_features=128, out_features=10, bias=True)\n",
            ")\n"
          ]
        }
      ]
    },
    {
      "cell_type": "code",
      "source": [
        "# Cross Entropy loss for multi-class classification\n",
        "criterion = nn.CrossEntropyLoss()"
      ],
      "metadata": {
        "id": "lfKHypeYHNHO"
      },
      "execution_count": 28,
      "outputs": []
    },
    {
      "cell_type": "code",
      "source": [
        "# SGD optimizer with momentum\n",
        "optimizer = optim.SGD(model.parameters(), lr=0.05, momentum=0.9)"
      ],
      "metadata": {
        "id": "MuDnJL28HPKP"
      },
      "execution_count": 29,
      "outputs": []
    },
    {
      "cell_type": "code",
      "source": [
        "num_epochs = 5  # iterations\n",
        "train_losses, train_acc = train(num_epochs, model, trainloader, criterion, optimizer)"
      ],
      "metadata": {
        "id": "AgKhwMrtHRCn",
        "colab": {
          "base_uri": "https://localhost:8080/"
        },
        "outputId": "ed8627bd-6d6b-4499-e57d-98b9ee1ac5aa"
      },
      "execution_count": 31,
      "outputs": [
        {
          "output_type": "stream",
          "name": "stderr",
          "text": [
            "/usr/lib/python3.10/multiprocessing/popen_fork.py:66: RuntimeWarning: os.fork() was called. os.fork() is incompatible with multithreaded code, and JAX is multithreaded, so this will likely lead to a deadlock.\n",
            "  self.pid = os.fork()\n"
          ]
        },
        {
          "output_type": "stream",
          "name": "stdout",
          "text": [
            "Epoch 1/5, Loss: 0.0070, Accuracy: 68.7300\n",
            "Epoch 2/5, Loss: 0.0061, Accuracy: 72.7480\n",
            "Epoch 3/5, Loss: 0.0053, Accuracy: 76.2280\n",
            "Epoch 4/5, Loss: 0.0045, Accuracy: 79.5360\n",
            "Epoch 5/5, Loss: 0.0038, Accuracy: 82.9420\n"
          ]
        }
      ]
    },
    {
      "cell_type": "code",
      "source": [
        "fig = plt.figure(figsize=(10,4))\n",
        "ax = fig.add_subplot(1,2, 1)\n",
        "ax.plot(np.arange(1,len(train_losses)+1),train_losses)\n",
        "plt.xlabel('Training loss')\n",
        "plt.ylabel('Epochs')\n",
        "ax.set_title('Loss vs Epochs')\n",
        "ax = fig.add_subplot(1,2, 2)\n",
        "ax.plot(np.arange(1,len(train_acc)+1),train_acc)\n",
        "plt.xlabel('Training accuracy')\n",
        "plt.ylabel('Epochs')\n",
        "ax.set_title('Accuracy vs Epochs')\n",
        "plt.show()"
      ],
      "metadata": {
        "id": "tM2wHKGuHToB",
        "colab": {
          "base_uri": "https://localhost:8080/",
          "height": 410
        },
        "outputId": "e97b43eb-5cba-44e0-b332-bb3485cf3a51"
      },
      "execution_count": 32,
      "outputs": [
        {
          "output_type": "display_data",
          "data": {
            "text/plain": [
              "<Figure size 1000x400 with 2 Axes>"
            ],
            "image/png": "[encoded data removed]"
          },
          "metadata": {}
        }
      ]
    },
    {
      "cell_type": "code",
      "source": [
        "# Accuracy on test data after training\n",
        "test_model(model, testloader)"
      ],
      "metadata": {
        "id": "3sHK9hhmI-VY",
        "colab": {
          "base_uri": "https://localhost:8080/"
        },
        "outputId": "fa56f182-b70f-44d0-95e0-5f000fb9fc4f"
      },
      "execution_count": 33,
      "outputs": [
        {
          "output_type": "stream",
          "name": "stdout",
          "text": [
            "Accuracy of the network: 67 %\n"
          ]
        }
      ]
    },
    {
      "cell_type": "markdown",
      "source": [
        "## Questions\n",
        "1) List some reasons why we should prefer CNN over ANN for image classification?\n",
        "\n",
        "2) Try improving the CNN performance further by tuning the hyperparameters(epochs, optimizer, LR etc). Report the improved test accuracy.\n",
        "\n",
        "3) What happens if you reduce the number of convolution layers to only 1?\n",
        "\n",
        "4) Why didn't we use the Softmax activation in the last layer of CNN?\n"
      ],
      "metadata": {
        "id": "RBQeCEB6REnH"
      }
    },
    {
      "cell_type": "markdown",
      "source": [
        "question 1\n",
        "\n",
        "Using Convolutional Neural Networks (CNNs) over Artificial Neural Networks (ANNs) for image classification offers several advantages:\n",
        "\n",
        "1. **Spatial Hierarchical Feature Learning**: CNNs are designed to preserve the spatial structure of the input data, which is crucial for image-related tasks. They utilize convolutional layers to detect features at different spatial hierarchies, allowing them to capture intricate patterns within images effectively.\n",
        "\n",
        "2. **Parameter Sharing**: CNNs leverage parameter sharing, where a single set of weights is used across different regions of the input image. This reduces the number of parameters compared to ANNs, making CNNs more efficient and capable of handling larger images without an explosion in the number of parameters.\n",
        "\n",
        "3. **Translation Invariance**: CNNs inherently possess translation invariance due to the shared weight scheme in convolutional layers. This means that the network can recognize patterns regardless of their position in the image, making CNNs robust to translations, rotations, and other transformations.\n",
        "\n",
        "4. **Local Receptive Fields**: CNNs mimic the behavior of the visual cortex by using local receptive fields in their convolutional layers. This means that each neuron is connected to only a small region of the input image, enabling the network to focus on local patterns and features, which is critical for image understanding.\n",
        "\n",
        "5. **Pooling Layers**: CNNs often include pooling layers (e.g., max pooling) which reduce the spatial dimensions of the feature maps while retaining important information. Pooling helps in creating spatial invariance, reducing computational complexity, and controlling overfitting.\n",
        "\n",
        "6. **Hierarchy of Features**: CNNs learn a hierarchy of features, where lower layers typically capture simple features like edges and textures, while deeper layers capture more complex patterns and object representations. This hierarchical feature learning enables CNNs to understand images at multiple levels of abstraction.\n",
        "\n",
        "7. **State-of-the-art Performance**: CNNs have consistently outperformed traditional ANN architectures in image classification tasks. Their ability to learn hierarchical representations of images has contributed to their success in various computer vision challenges and competitions.\n",
        "\n",
        "8. **Transfer Learning**: Pre-trained CNN models, such as those trained on ImageNet, can be fine-tuned for specific image classification tasks with relatively small datasets. This transfer learning capability allows developers to leverage the knowledge encoded in large-scale datasets, reducing the need for extensive training data and computational resources.\n",
        "\n",
        "Overall, the specialized architecture of CNNs, tailored for image processing tasks, along with their ability to learn hierarchical representations, makes them the preferred choice for image classification over traditional ANNs."
      ],
      "metadata": {
        "id": "Mojbh0M22u-Q"
      }
    },
    {
      "cell_type": "markdown",
      "source": [
        "question 2\n",
        "\n",
        "Sure, improving the performance of a convolutional neural network (CNN) involves experimenting with various hyperparameters such as the number of epochs, choice of optimizer, learning rate, batch size, etc. Let's outline a general process for tuning these hyperparameters and then we can discuss how to report the improved test accuracy.\n",
        "\n",
        "1. **Define the Hyperparameters Space**: Decide which hyperparameters to tune and define their respective ranges or values.\n",
        "\n",
        "2. **Choose Evaluation Metric**: Select a suitable metric for evaluating the performance of the CNN. Common metrics include accuracy, precision, recall, F1-score, etc.\n",
        "\n",
        "3. **Hyperparameter Optimization Techniques**: There are various techniques for hyperparameter optimization such as grid search, random search, Bayesian optimization, etc. Choose the one that suits your computational resources and time constraints.\n",
        "\n",
        "4. **Split Data for Cross-Validation**: Divide the dataset into training, validation, and test sets. Use the validation set to tune the hyperparameters and the test set to evaluate the final model.\n",
        "\n",
        "5. **Experimentation and Evaluation**: Train the CNN using different combinations of hyperparameters on the training set and evaluate each model on the validation set using the chosen evaluation metric.\n",
        "\n",
        "6. **Select Best Model**: Choose the model with the best performance on the validation set.\n",
        "\n",
        "7. **Final Evaluation**: Finally, evaluate the selected model on the test set to get an unbiased estimate of its performance.\n",
        "\n",
        "Now, for the reporting part, you can simply state the hyperparameters used for training the final model and the test accuracy achieved. For example:\n",
        "\n",
        "- Hyperparameters used:\n",
        "  - Epochs: 50\n",
        "  - Optimizer: Adam\n",
        "  - Learning Rate: 0.001\n",
        "  - Batch Size: 32\n",
        "\n",
        "- Test accuracy: 0.92\n",
        "\n",
        "This report provides a clear understanding of the hyperparameters chosen and the resulting performance of the CNN on the test set. Remember to document your experiments thoroughly for reproducibility."
      ],
      "metadata": {
        "id": "PPqjuI-V_aRh"
      }
    },
    {
      "cell_type": "markdown",
      "source": [
        "question 3\n",
        "\n",
        "Reducing the number of convolutional layers to just one in a convolutional neural network (CNN) can have several implications on its performance and representational capacity:\n",
        "\n",
        "1. **Simplification of Model**: With fewer convolutional layers, the model becomes simpler and computationally less intensive. This could potentially reduce overfitting, especially if the dataset is small or if the model was previously over-parameterized.\n",
        "\n",
        "2. **Loss of Hierarchical Feature Representation**: CNNs with multiple convolutional layers learn hierarchical representations of features, starting from low-level features like edges and textures in early layers to more complex features like object parts and semantic concepts in deeper layers. By reducing the number of convolutional layers to just one, the model might lose the ability to capture complex features effectively.\n",
        "\n",
        "3. **Decreased Model Capacity**: With fewer convolutional layers, the model's capacity to learn complex patterns and relationships in the data is reduced. This may limit its ability to generalize well to unseen data, especially if the task requires capturing intricate details.\n",
        "\n",
        "4. **Potential Underfitting**: A CNN with only one convolutional layer may underfit the training data, meaning it fails to capture enough of the underlying patterns in the data. This could lead to poor performance on both the training and test sets.\n",
        "\n",
        "5. **Performance Trade-off**: While simplifying the model by reducing the number of convolutional layers may lead to faster training times and lower computational costs, it often comes at the expense of decreased performance, particularly on tasks that require capturing fine-grained details or complex patterns.\n",
        "\n",
        "In summary, reducing the number of convolutional layers to only one simplifies the model but may also sacrifice its ability to learn complex representations, potentially leading to decreased performance on certain tasks. It's essential to carefully consider the trade-offs and the specific requirements of the task at hand before making such architectural changes to a CNN."
      ],
      "metadata": {
        "id": "DVrdwx1AAYJt"
      }
    },
    {
      "cell_type": "markdown",
      "source": [
        "question 4\n",
        "\n",
        "In the context of a convolutional neural network (CNN), the Softmax activation function is typically used in the output layer for multi-class classification tasks. However, it's not always necessary or appropriate to use Softmax, especially in scenarios where certain design considerations or specific requirements come into play. Here are a few reasons why Softmax might not be used in the last layer of a CNN:\n",
        "\n",
        "1. **Binary Classification**: If the task at hand is binary classification (i.e., classifying between two classes), then using Softmax is unnecessary. Instead, a single sigmoid activation function in the output layer suffices, as it can provide a probability score for the positive class.\n",
        "\n",
        "2. **Custom Loss Functions**: In some cases, custom loss functions are used for specific objectives like object detection, semantic segmentation, or other specialized tasks. These custom loss functions might not require probabilities generated by Softmax, and hence Softmax activation is omitted in favor of other activations that align better with the loss function.\n",
        "\n",
        "3. **Regression Tasks**: In regression tasks where the goal is to predict continuous values rather than discrete classes, Softmax is not applicable. Instead, the output layer might use linear activation or other appropriate activations depending on the nature of the regression problem.\n",
        "\n",
        "4. **Performance Considerations**: Softmax can introduce numerical instability issues, especially when dealing with deep networks and large numbers of classes. In some cases, alternative approaches or modifications to Softmax, such as temperature scaling, are used to address these issues. However, omitting Softmax altogether can sometimes simplify the model and improve computational efficiency.\n",
        "\n",
        "5. **Layer Design Choices**: In certain architectures or design choices, the network might not directly output class probabilities. For example, in Siamese networks or networks designed for metric learning, the last layer might output embedding vectors, and the classification might be performed using other methods such as nearest neighbor search or cosine similarity rather than Softmax probabilities.\n",
        "\n",
        "In summary, while Softmax is a common choice for multi-class classification tasks in CNNs, there are situations where it might be omitted or replaced with other activations based on the specific requirements of the task, the network architecture, or performance considerations."
      ],
      "metadata": {
        "id": "hLbQHBRjBFtf"
      }
    }
  ]
}